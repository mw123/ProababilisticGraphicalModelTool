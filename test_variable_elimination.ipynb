{
 "cells": [
  {
   "cell_type": "raw",
   "metadata": {},
   "source": [
    "Graphical model to be built:\n",
    "\n",
    "A     C\n",
    "|     |\n",
    "-> B <-"
   ]
  },
  {
   "cell_type": "code",
   "execution_count": 1,
   "metadata": {},
   "outputs": [],
   "source": [
    "from myPGM.BayesianModel import BayesianModel\n",
    "\n",
    "bayes = BayesianModel([('A', 'B'),('C', 'B')])#,('B', 'D'),('B','E')])"
   ]
  },
  {
   "cell_type": "code",
   "execution_count": 3,
   "metadata": {},
   "outputs": [],
   "source": [
    "from myPGM.TabularCPD import TabularCPD"
   ]
  },
  {
   "cell_type": "code",
   "execution_count": 4,
   "metadata": {},
   "outputs": [],
   "source": [
    "cpd_a = TabularCPD('A', values=[[0],[1]])\n",
    "cpd_c = TabularCPD('C', values=[[0.8],[0.2]])\n",
    "cpd_b = TabularCPD('B', values=[[0.2, 0.3, 0.5, 0.6],[0.8,0.7,0.5,0.4]], evidence=['A','C'])"
   ]
  },
  {
   "cell_type": "code",
   "execution_count": 7,
   "metadata": {},
   "outputs": [],
   "source": [
    "bayes.add_cpds(cpd_a, cpd_c, cpd_b)"
   ]
  },
  {
   "cell_type": "code",
   "execution_count": 8,
   "metadata": {},
   "outputs": [
    {
     "name": "stdout",
     "output_type": "stream",
     "text": [
      "Node B has parents ['A', 'C']\n",
      "Node C has parents []\n",
      "Node A has parents []\n",
      "\n",
      "CPDs: \n",
      "Query variables: B\n",
      "Evidences: A, C\n",
      "CPD: \n",
      "[[ 0.2  0.3  0.5  0.6]\n",
      " [ 0.8  0.7  0.5  0.4]]\n",
      "Query variables: C\n",
      "Evidences: \n",
      "CPD: \n",
      "[[ 0.8]\n",
      " [ 0.2]]\n",
      "Query variables: A\n",
      "Evidences: \n",
      "CPD: \n",
      "[[0]\n",
      " [1]]\n"
     ]
    }
   ],
   "source": [
    "bayes.print_graph()"
   ]
  },
  {
   "cell_type": "code",
   "execution_count": 9,
   "metadata": {},
   "outputs": [
    {
     "name": "stdout",
     "output_type": "stream",
     "text": [
      "Query variables: B, A, C\n",
      "Evidences: \n",
      "CPD: \n",
      "[[ 0. ]\n",
      " [ 0. ]\n",
      " [ 0.5]\n",
      " [ 0.6]\n",
      " [ 0. ]\n",
      " [ 0. ]\n",
      " [ 0.5]\n",
      " [ 0.4]]\n"
     ]
    }
   ],
   "source": [
    "product = cpd_b.multiplyCPD(cpd_a, 'A')\n",
    "print(product)"
   ]
  },
  {
   "cell_type": "code",
   "execution_count": 10,
   "metadata": {},
   "outputs": [
    {
     "name": "stdout",
     "output_type": "stream",
     "text": [
      "Query variables: B, A\n",
      "Evidences: \n",
      "CPD: \n",
      "[[ 0. ]\n",
      " [ 1.1]\n",
      " [ 0. ]\n",
      " [ 0.9]]\n"
     ]
    }
   ],
   "source": [
    "print(product.marginalizeCPD('C'))"
   ]
  },
  {
   "cell_type": "code",
   "execution_count": 11,
   "metadata": {},
   "outputs": [],
   "source": [
    "from myPGM.VariableElimination import VariableElimination"
   ]
  },
  {
   "cell_type": "code",
   "execution_count": 12,
   "metadata": {},
   "outputs": [],
   "source": [
    "inference = VariableElimination(bayes)"
   ]
  },
  {
   "cell_type": "code",
   "execution_count": 13,
   "metadata": {},
   "outputs": [
    {
     "name": "stdout",
     "output_type": "stream",
     "text": [
      "Query variables: A\n",
      "Evidences: \n",
      "CPD: \n",
      "[[0]\n",
      " [1]]\n"
     ]
    }
   ],
   "source": [
    "inference.query(['A'], {'C': 0})"
   ]
  },
  {
   "cell_type": "code",
   "execution_count": 14,
   "metadata": {},
   "outputs": [
    {
     "name": "stdout",
     "output_type": "stream",
     "text": [
      "Query variables: B, C\n",
      "Evidences: \n",
      "CPD: \n",
      "[[ 0.5]\n",
      " [ 0.6]\n",
      " [ 0.5]\n",
      " [ 0.4]]\n"
     ]
    }
   ],
   "source": [
    "inference.query(['B'], {'C': 0})"
   ]
  },
  {
   "cell_type": "code",
   "execution_count": 29,
   "metadata": {},
   "outputs": [
    {
     "name": "stdout",
     "output_type": "stream",
     "text": [
      "Query variables: B, A\n",
      "Evidences: \n",
      "CPD: \n",
      "[[ 0.22]\n",
      " [ 0.52]\n",
      " [ 0.78]\n",
      " [ 0.48]]\n"
     ]
    }
   ],
   "source": [
    "inference.query(['B'], {'A': 0})"
   ]
  },
  {
   "cell_type": "markdown",
   "metadata": {},
   "source": [
    "### Compare my implementation to pgmpy"
   ]
  },
  {
   "cell_type": "code",
   "execution_count": 15,
   "metadata": {},
   "outputs": [],
   "source": [
    "from pgmpy.factors.discrete import TabularCPD as TCPD\n",
    "from pgmpy.inference import VariableElimination as VE\n",
    "from pgmpy.models import BayesianModel as BM"
   ]
  },
  {
   "cell_type": "code",
   "execution_count": 16,
   "metadata": {},
   "outputs": [],
   "source": [
    "bayes_pgm = BM([('A', 'B'),('C', 'B')])"
   ]
  },
  {
   "cell_type": "code",
   "execution_count": 20,
   "metadata": {},
   "outputs": [],
   "source": [
    "cpd_a_pgm = TCPD('A', 2, values=[[0],[1]])\n",
    "cpd_c_pgm = TCPD('C', 2, values=[[0.8],[0.2]])\n",
    "cpd_b_pgm = TCPD('B', 2, values=[[0.2, 0.3, 0.5, 0.6],[0.8,0.7,0.5,0.4]], evidence=['A','C'], evidence_card=[2, 2])"
   ]
  },
  {
   "cell_type": "code",
   "execution_count": 21,
   "metadata": {},
   "outputs": [],
   "source": [
    "bayes_pgm.add_cpds(cpd_a_pgm, cpd_c_pgm, cpd_b_pgm)"
   ]
  },
  {
   "cell_type": "code",
   "execution_count": 22,
   "metadata": {},
   "outputs": [],
   "source": [
    "inference_pgm = VE(bayes_pgm)"
   ]
  },
  {
   "cell_type": "code",
   "execution_count": 26,
   "metadata": {},
   "outputs": [
    {
     "name": "stdout",
     "output_type": "stream",
     "text": [
      "╒═════╤══════════╕\n",
      "│ A   │   phi(A) │\n",
      "╞═════╪══════════╡\n",
      "│ A_0 │   0.0000 │\n",
      "├─────┼──────────┤\n",
      "│ A_1 │   1.0000 │\n",
      "╘═════╧══════════╛\n"
     ]
    }
   ],
   "source": [
    "q=inference_pgm.query(['A'], {'C': 0})\n",
    "print(q['A'])"
   ]
  },
  {
   "cell_type": "code",
   "execution_count": 27,
   "metadata": {},
   "outputs": [
    {
     "name": "stdout",
     "output_type": "stream",
     "text": [
      "╒═════╤══════════╕\n",
      "│ B   │   phi(B) │\n",
      "╞═════╪══════════╡\n",
      "│ B_0 │   0.5000 │\n",
      "├─────┼──────────┤\n",
      "│ B_1 │   0.5000 │\n",
      "╘═════╧══════════╛\n"
     ]
    }
   ],
   "source": [
    "q2=inference_pgm.query(['B'], {'C': 0})\n",
    "print(q2['B'])"
   ]
  },
  {
   "cell_type": "code",
   "execution_count": 28,
   "metadata": {},
   "outputs": [
    {
     "name": "stdout",
     "output_type": "stream",
     "text": [
      "╒═════╤══════════╕\n",
      "│ B   │   phi(B) │\n",
      "╞═════╪══════════╡\n",
      "│ B_0 │   0.2200 │\n",
      "├─────┼──────────┤\n",
      "│ B_1 │   0.7800 │\n",
      "╘═════╧══════════╛\n"
     ]
    }
   ],
   "source": [
    "q3=inference_pgm.query(['B'], {'A': 0})\n",
    "print(q3['B'])"
   ]
  },
  {
   "cell_type": "code",
   "execution_count": null,
   "metadata": {},
   "outputs": [],
   "source": []
  }
 ],
 "metadata": {
  "kernelspec": {
   "display_name": "Python 3",
   "language": "python",
   "name": "python3"
  },
  "language_info": {
   "codemirror_mode": {
    "name": "ipython",
    "version": 3
   },
   "file_extension": ".py",
   "mimetype": "text/x-python",
   "name": "python",
   "nbconvert_exporter": "python",
   "pygments_lexer": "ipython3",
   "version": "3.5.2"
  }
 },
 "nbformat": 4,
 "nbformat_minor": 2
}
